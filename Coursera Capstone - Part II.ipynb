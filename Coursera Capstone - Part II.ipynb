{
    "nbformat_minor": 1, 
    "cells": [
        {
            "source": "<h1 align = center> IBM Data Science Capstone <h2>", 
            "cell_type": "markdown", 
            "metadata": {
                "collapsed": true
            }
        }, 
        {
            "source": "<h2>Finding the best locations of a fine-dining Indian Restaurant in Toronto</h2>", 
            "cell_type": "markdown", 
            "metadata": {}
        }, 
        {
            "source": "<h3> Background and Introduction </h3>", 
            "cell_type": "markdown", 
            "metadata": {}
        }, 
        {
            "source": "\nToronto is a thriving multi-ethnic and multi-cultural city in Ontario, Canada. The restaurant industry in Toronto boasts of options from a multitude of ethnic sources. I am particularly interested in Indian cuisine, which is becoming increasingly popular. My goal is to determine the best neighbourhoods for setting up one or more Indian fine-dining restaurants.\n\nThe popularity of Indian cuisine started growing with the influx of immigrants from India in the 1960s. While initially limited to neighbourhoods with large Indian communities, the popularity of Indian food has now reached a more general audience in metropolitan Canada, especially in Vancouver and Toronto. This popularity follows the growing attraction for Indian cuisine in the United Kingdom, where Indian restaurants are successful outside ethnic neighbourhoods.\n\nIndian cuisine has a wide variety, reflecting the diversity of ethnic groups and geographical nuances. However, Indian cuisine in the West has largely been limited to North Indian dishes, primarily because of the larger North Indian immigrant community. However, this trend is changing. A much greater variety of Indian culinary styles are now available for consumption for diners in larger cities like Toronto.\n\nThe goal is to set up one or more Indian fine-dining restaurants which will offer a broad range of dishes from India. The focus will be on sit-down dinners for families and groups. Pricing will be high-end.\n\nTherefore I will need to understand the population of the neighbourhoods in depth and see the number of Indian restaurants already available in each neighbourhood.\n\nThe target audience will be people in the food industry wishing to set up speciality restaurants. Here the example is of an Indian restaurant, but this can be extrapolated to other specialties as well by following the same principles.\n\nReference: https://www.thecanadianencyclopedia.ca/en/article/indian-food-in-canada", 
            "cell_type": "markdown", 
            "metadata": {}
        }
    ], 
    "metadata": {
        "kernelspec": {
            "display_name": "Python 3.5", 
            "name": "python3", 
            "language": "python"
        }, 
        "language_info": {
            "mimetype": "text/x-python", 
            "nbconvert_exporter": "python", 
            "version": "3.5.5", 
            "name": "python", 
            "file_extension": ".py", 
            "pygments_lexer": "ipython3", 
            "codemirror_mode": {
                "version": 3, 
                "name": "ipython"
            }
        }
    }, 
    "nbformat": 4
}