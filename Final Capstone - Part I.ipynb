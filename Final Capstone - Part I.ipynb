{
    "nbformat_minor": 1, 
    "cells": [
        {
            "source": "<h1 align = center>IBM Data Science Capstone </h1>", 
            "cell_type": "markdown", 
            "metadata": {
                "collapsed": true
            }
        }, 
        {
            "source": "<h2><b>Finding the locations of an Indian Restaurant in Toronto</b></h2>", 
            "cell_type": "markdown", 
            "metadata": {}
        }, 
        {
            "source": "<h3><b>  Background and Introduction </b></h3>", 
            "cell_type": "markdown", 
            "metadata": {}
        }, 
        {
            "source": "Toronto is a thriving multi-ethnic and multi-cultural city in Ontario, Canada. The restaurant industry in Toronto boasts of options from a multitude of ethnic sources. I am particularly interested in Indian cuisine, which is becoming increasingly popular. My goal is to determine the best neighbourhoods for setting up one or more Indian fine-dining restaurants.\n\nThe popularity of Indian cuisine started growing with the influx of immigrants from India in the 1960s. While initially limited to neighbourhoods with large Indian communities, the popularity of Indian food has now reached a more general audience in metropolitan Canada, especially in Vancouver and Toronto. This popularity follows the growing attraction for Indian cuisine in the United Kingdom, where Indian restaurants are successful outside ethnic neighbourhoods.\n\nIndian cuisine has a wide variety, reflecting the diversity of ethnic groups and geographical nuances. However, Indian cuisine in the West has largely been limited to North Indian dishes, primarily because of the larger North Indian immigrant community. However, this trend is changing. A much greater variety of Indian culinary styles are now available for consumption for diners in larger cities like Toronto.\n\nThe goal is to set up one or more Indian fine-dining restaurants which will offer a broad range of dishes from India. The focus will be on sit-down dinners for families and groups. Pricing will be medium to high-end.\n\nReference: https://www.thecanadianencyclopedia.ca/en/article/indian-food-in-canada", 
            "cell_type": "markdown", 
            "metadata": {}
        }, 
        {
            "source": "<h3><b> Sources of data </b></h3>", 
            "cell_type": "markdown", 
            "metadata": {}
        }, 
        {
            "source": "To determine the best neighbourhoods for opening an Indian Restaurant, following information was required: ", 
            "cell_type": "markdown", 
            "metadata": {}
        }, 
        {
            "source": "<b> Names of Toronto neighbourhoods </b>", 
            "cell_type": "markdown", 
            "metadata": {}
        }, 
        {
            "source": "There are several sources for getting this information.", 
            "cell_type": "markdown", 
            "metadata": {}
        }, 
        {
            "source": "<ul>\n  <li>This Wikipedia page on Canada postcodes starting with M is one of them \u2013 this we have used before. <a href = \"https://en.wikipedia.org/wiki/List_of_postal_codes_of_Canada:_M\">Click Here</a>.</li> <br>\n    \n  <li>Another more definitive source is the Canadian census data. I decided to us this for reasons given below. In terms of geographical location, for the sake of simplicity, I decided to restrict the analysis to Toronto city and not include the nearby residential suburbs. <a href = \"https://www.toronto.ca/city-government/data-research-maps/open-data/open-data-catalogue/\"?\\> Click Here </a></li>\n", 
            "cell_type": "markdown", 
            "metadata": {}
        }, 
        {
            "source": "<b> Demographic Information </b>", 
            "cell_type": "markdown", 
            "metadata": {}
        }, 
        {
            "source": "I have planned for a medium-high end fine diner. It would be important to identify:", 
            "cell_type": "markdown", 
            "metadata": {}
        }, 
        {
            "source": "<ul>\n  <li>the more affluent neighbourhoods</li>\n  <li>neighbourhoods with a higher education level</li>\n  <li>neighbourhoods with a relatively higher proportion of immigrants from India and neighbouring countries of Pakistan, Bangladesh, Sri Lanka and Afghanistan, which share a similar cuisine</li>\n</ul>", 
            "cell_type": "markdown", 
            "metadata": {}
        }, 
        {
            "source": "On searching I discovered that extremely detailed information is available from the census data of 2016. There are 2383 variables collected in the census, including demographic, financial, education, ethnicity and language. This data is available for each neighbourhood in the city of Toronto. https://www.toronto.ca/city-government/data-research-maps/open-data/open-data-catalogue/ From this vast dataset, I curated out variables corresponding the information I tried to collect and created a more manageable csv file which would be easier to manipulate within my submission.", 
            "cell_type": "markdown", 
            "metadata": {}
        }, 
        {
            "source": "I used the following raw information:\n\n<ul>\n    <li>Population in 2016</li>\n    <li>Population density</li>\n    <li>Working age population</li>\n    <li>Mother tongue \u2013 proportion with Dravidian or Indo-aryan</li>\n    <li>Income \u2013 earning 60-70k, 70-80k and 80k or more annually</li>\n    <li>Immigrant \u2013 birthplace listed as India, Pakistan, Srilanka, Bangladesh or Afghanistan</li>\n    <li>Education \u2013 University diploma or degree My intention is to focus on income and immigrant information primarily at first to keep things simple.</li>", 
            "cell_type": "markdown", 
            "metadata": {}
        }, 
        {
            "source": "<b> Geolocation </b>", 
            "cell_type": "markdown", 
            "metadata": {}
        }, 
        {
            "source": "I used the geopy library to serially search for coordinates.", 
            "cell_type": "markdown", 
            "metadata": {}
        }, 
        {
            "source": "<b>Information on available restaurants</b>", 
            "cell_type": "markdown", 
            "metadata": {}
        }, 
        {
            "source": "My plan is to use the Foursquare API to \u2018explore\u2019 food options around the geographical coordinates of each neighbourhood. I would use the following additional parameters:", 
            "cell_type": "markdown", 
            "metadata": {}
        }, 
        {
            "source": "<ul>\n    <li>Radius 1000 m</li>\n    <li>Limit 100 (to capture a greater number of options)</li>\n    <li>Section \u2013 \u2018food\u2019 to limit the search to food</li>\n    <li></li>\n    <li></li>", 
            "cell_type": "markdown", 
            "metadata": {}
        }
    ], 
    "metadata": {
        "kernelspec": {
            "display_name": "Python 3.5", 
            "name": "python3", 
            "language": "python"
        }, 
        "language_info": {
            "mimetype": "text/x-python", 
            "nbconvert_exporter": "python", 
            "version": "3.5.5", 
            "name": "python", 
            "pygments_lexer": "ipython3", 
            "file_extension": ".py", 
            "codemirror_mode": {
                "version": 3, 
                "name": "ipython"
            }
        }
    }, 
    "nbformat": 4
}